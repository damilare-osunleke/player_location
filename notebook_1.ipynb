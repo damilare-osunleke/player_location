{
 "cells": [
  {
   "attachments": {},
   "cell_type": "markdown",
   "metadata": {},
   "source": [
    "Note: To run this notebook, you would need a google maps api key. Pls enter api key in the cell below"
   ]
  },
  {
   "cell_type": "code",
   "execution_count": 10,
   "metadata": {},
   "outputs": [],
   "source": [
    "# Google maps client setup\n",
    "from googlemaps import Client as GoogleMapsClient\n",
    "############\n",
    "# api_key = \n",
    "############\n",
    "gmaps = GoogleMapsClient(api_key)"
   ]
  },
  {
   "cell_type": "code",
   "execution_count": 11,
   "metadata": {},
   "outputs": [],
   "source": [
    "# import modules\n",
    "import pandas as pd\n",
    "import geopy\n",
    "from unidecode import unidecode\n",
    "\n",
    "\n",
    "from geopy.geocoders import Nominatim\n",
    "from fuzzywuzzy import process\n",
    "from unidecode import unidecode\n",
    "from spellchecker import SpellChecker\n",
    "import time\n",
    "\n",
    "\n",
    "from geopy.geocoders import Nominatim\n",
    "from geopy.exc import GeocoderTimedOut, GeocoderServiceError\n",
    "import requests\n",
    "import time\n",
    "import numpy as np"
   ]
  },
  {
   "cell_type": "code",
   "execution_count": 12,
   "metadata": {},
   "outputs": [],
   "source": [
    "# read input files\n",
    "df = pd.read_csv(\"location_changes.csv\")\n",
    "wpi = pd.read_csv(\"WPI.csv\")\n",
    "iso_codes = pd.read_csv(\"ISO_codes.csv\")"
   ]
  },
  {
   "cell_type": "code",
   "execution_count": 13,
   "metadata": {},
   "outputs": [],
   "source": [
    "\n",
    "wpi[\"locode\"]= wpi[\"UN/LOCODE\"].str[:2]\n",
    "wpi=wpi[[\"locode\",\"Country Code\"]].drop_duplicates(subset='locode')\n",
    "wpi= wpi.rename(columns= {\"Country Code\":\"country\"})\n",
    "wpi= wpi.drop(index=0).reset_index(drop= True)\n",
    "\n",
    "iso_codes= iso_codes[[\"name\",\"alpha-2\"]]"
   ]
  },
  {
   "cell_type": "code",
   "execution_count": 14,
   "metadata": {},
   "outputs": [],
   "source": [
    "df = df.rename(columns= {\"previous_country\":\"previous_country_code\", \"country\":\"country_code\"})\n",
    "\n",
    "# merge country info from wpi ( for both previous country and current country)\n",
    "df= pd.merge(left = df, right=wpi , left_on=\"previous_country_code\", right_on= \"locode\", how= \"left\")\n",
    "df = df.rename(columns= {\"country\":\"previous_country\"})\n",
    "df = df.drop(columns= \"locode\")\n",
    "df = pd.merge(left = df, right=wpi , left_on=\"country_code\", right_on= \"locode\", how= \"left\")\n",
    "\n",
    "\n",
    "# where country info is still missing, merge country info from iso_codes\n",
    "df = pd.merge(left = df, right=iso_codes , left_on=\"country_code\", right_on= \"alpha-2\", how= \"left\")\n",
    "df = df.drop(columns = \"alpha-2\")\n",
    "df['country'] = df['country'].fillna(df['name'])\n",
    "df = df.drop(columns=\"name\")\n",
    "df = pd.merge(left = df, right=iso_codes , left_on=\"previous_country_code\", right_on= \"alpha-2\", how= \"left\")\n",
    "df = df.drop(columns = \"alpha-2\")\n",
    "df['previous_country'] = df['previous_country'].fillna(df['name'])\n",
    "df = df.drop(columns=\"name\")\n",
    "\n",
    "\n"
   ]
  },
  {
   "cell_type": "code",
   "execution_count": 15,
   "metadata": {},
   "outputs": [],
   "source": [
    "\n",
    "# extract required columns\n",
    "df= df[[\"player_id\",\"date\",\"previous_country_code\",\"previous_country\",\"previous_location\",\"country_code\",\"country\",\"location\"]]\n",
    "\n",
    "# filter only rows where at least one of 'previous country' or 'current country' exist\n",
    "df = df[~((df[\"previous_location\"].isna()) & (df[\"location\"].isna()))].reset_index(drop = True)\n"
   ]
  },
  {
   "cell_type": "markdown",
   "metadata": {},
   "source": []
  },
  {
   "attachments": {},
   "cell_type": "markdown",
   "metadata": {},
   "source": [
    "The fucntion below performs the following:   \n",
    "\n",
    "1) id country is not NA, use city + country as search term   \n",
    "2) if there is no country available search with city only\n",
    "3) Look through the returned json payload, skip results athat are partial matches   \n",
    "4) Extract the address compomemt of the result   \n",
    "5) From the address component, extract the country, extract the city.   \n",
    "6) Now, check if the country compoent matches the country in the search term. If yes, extract the location componet (lat and lon). If no, return none  \n",
    "7) if 2) i.e. no country in search term, simply return the lat and lon \n"
   ]
  },
  {
   "cell_type": "code",
   "execution_count": 16,
   "metadata": {},
   "outputs": [],
   "source": [
    "# Function to geocode location or reverse geocode coordinates\n",
    "def geocode_location(city_name, country_name=None):\n",
    "    try:\n",
    "        if pd.isna(city_name) or not isinstance(city_name, str):\n",
    "            return None, None, None, None  # Handle missing or invalid inputs \n",
    "\n",
    "        # geocode with city_name and country_name if provided\n",
    "        if country_name and isinstance(country_name, str):\n",
    "            result = gmaps.geocode(f\"{city_name}, {country_name}\")\n",
    "        else:\n",
    "            # If no country is provided, geocode using the city only\n",
    "            result = gmaps.geocode(f\"{city_name}\")\n",
    "\n",
    "        if result:\n",
    "            for res in result:\n",
    "                # skip partial matches. They are usually incorrect\n",
    "                if 'partial_match' in res and res['partial_match']:\n",
    "                    continue\n",
    "\n",
    "                # Extract address from the returned json payload\n",
    "                address_components = res.get('address_components', [])\n",
    "                \n",
    "                # Get country and city components, confirm that they are not None\n",
    "                country_component = next((comp for comp in address_components if 'country' in comp['types']), None)\n",
    "                city_component = next(\n",
    "                    (comp for comp in address_components if 'locality' in comp['types']), \n",
    "                    next(\n",
    "                        (comp for comp in address_components if 'administrative_area_level_3' in comp['types']),  \n",
    "                        next(\n",
    "                            (comp for comp in address_components if 'administrative_area_level_2' in comp['types']),  \n",
    "                            next(\n",
    "                                (comp for comp in address_components if 'administrative_area_level_1' in comp['types']), \n",
    "                                None\n",
    "                            )\n",
    "                        )\n",
    "                    )\n",
    "                )\n",
    "                \n",
    "                # Check if the country exists and matches\n",
    "                if country_component and country_name and isinstance(country_name, str) and country_component['long_name'].lower() == country_name.lower():\n",
    "                    location = res['geometry']['location']\n",
    "                    # Return lat, lon, city (if available), and country (if available)\n",
    "                    return location['lat'], location['lng'], city_component['long_name'] if city_component else None, country_component['long_name']\n",
    "                # If no country name is provided, return the result for the city\n",
    "                elif (country_name is None or pd.isna(country_name)) and city_component:\n",
    "                    location = res['geometry']['location']\n",
    "                    return location['lat'], location['lng'], city_component['long_name'], country_component['long_name'] if country_component else None\n",
    "\n",
    "        return None, None, None, None\n",
    "    except Exception as e:\n",
    "        print(f\"Error geocoding {city_name}, {country_name}: {e}\")\n",
    "        return None, None, None, None"
   ]
  },
  {
   "attachments": {},
   "cell_type": "markdown",
   "metadata": {},
   "source": [
    "The fucntion below calls the geocode_location() function and performs the following :   \n",
    "\n",
    "First Segment: handling previous location:   \n",
    "\n",
    "1) if both previous location and previous country are not NA, use them to obtain lon and lat, locatin(city) name and country name\n",
    "2) else if there is no country available use location (city) only   and set status to \"location not in country\"\n",
    "\n",
    "Second Segment: handling current location:    \n",
    "Here, in addition to searching for location result, we also try to deduce if the user forgot to update either the city or country.    \n",
    "1) check if the country has not changed (i.e. previous countryy is same as current country). If yes, first search using the new city and new country.   \n",
    "2) if a above leads to no successful search, there is a possibility user forgot to change country. Therefore we search using the city only.  set status to \"country not updated\" \n",
    "\n",
    "3) if previous location(city) is the same as current location (city) but the countries are different, we assume the that the user did not update the location (city)   \n",
    "4) If not of the above is true, do a normal search with city and country\n"
   ]
  },
  {
   "cell_type": "code",
   "execution_count": 17,
   "metadata": {},
   "outputs": [],
   "source": [
    "# Function to assess the status of location and determine if country or city was not updated\n",
    "def assess_location_status(record):\n",
    "    # Initialize status and coordinates\n",
    "    status_previous = \"\"\n",
    "    status_current = \"\"\n",
    "    previous_location_lat = None\n",
    "    previous_location_lon = None\n",
    "    location_lat = None\n",
    "    location_lon = None\n",
    "    location_result_previous = None\n",
    "    location_result_current = None\n",
    "    country_result_previous = None\n",
    "    country_result_current = None\n",
    "\n",
    "    # Section 1: Previous Location\n",
    "    if pd.notna(record['previous_location']) and pd.notna(record['previous_country']):\n",
    "        # First attempt to geocode the previous location with the previous country\n",
    "        prev_lat, prev_lon, location_result_previous, country_result_previous = geocode_location(record['previous_location'], record['previous_country'])\n",
    "        if prev_lat is not None and prev_lon is not None:\n",
    "            previous_location_lat = prev_lat\n",
    "            previous_location_lon = prev_lon\n",
    "        else:\n",
    "            # If location is not in the country, try geocoding without the country\n",
    "            status_previous = \"location not in country\"\n",
    "            prev_lat, prev_lon, location_result_previous, country_result_previous = geocode_location(record['previous_location'])\n",
    "            if prev_lat is not None and prev_lon is not None:\n",
    "                previous_location_lat = prev_lat\n",
    "                previous_location_lon = prev_lon\n",
    "\n",
    "    # Section 2: Current Location\n",
    "    if record['previous_country'] == record['country']:  # Check if the country hasn't changed\n",
    "        if pd.notna(record['location']):  # Make sure the location (city) is provided\n",
    "            loc_lat, loc_lon, location_result_current, country_result_current = geocode_location(record['location'], record['country'])\n",
    "            \n",
    "            # Check if the geocoding was successful\n",
    "            if loc_lat is not None and loc_lon is not None:\n",
    "                location_lat = loc_lat\n",
    "                location_lon = loc_lon\n",
    "            else:\n",
    "                # If location is not found in the country, search without the country\n",
    "                status_current = \"country not updated\"\n",
    "                loc_lat, loc_lon, location_result_current, country_result_current = geocode_location(record['location'])\n",
    "                if loc_lat is not None and loc_lon is not None:\n",
    "                    location_lat = loc_lat\n",
    "                    location_lon = loc_lon\n",
    "    elif pd.notna(record['previous_location']) and record['previous_location'] == record['location']:\n",
    "        # If previous location matches current location but the country is different\n",
    "        status_current = \"city not updated\"\n",
    "        loc_lat, loc_lon, location_result_current, country_result_current = geocode_location(record['location'])\n",
    "        if loc_lat is not None and loc_lon is not None:\n",
    "            location_lat = loc_lat\n",
    "            location_lon = loc_lon\n",
    "\n",
    "    else: # do a normal search for location and country\n",
    "        loc_lat, loc_lon, location_result_current, country_result_current = geocode_location(record['location'], record['country'])\n",
    "        if loc_lat is not None and loc_lon is not None:\n",
    "            location_lat = loc_lat\n",
    "            location_lon = loc_lon\n",
    "\n",
    "    return pd.Series([status_previous, previous_location_lat, previous_location_lon, location_result_previous, country_result_previous, \n",
    "                      status_current, location_lat, location_lon, location_result_current, country_result_current])"
   ]
  },
  {
   "cell_type": "code",
   "execution_count": 18,
   "metadata": {},
   "outputs": [
    {
     "name": "stdout",
     "output_type": "stream",
     "text": [
      "Error geocoding 34.1443° N, 118.0019° W, None: INVALID_REQUEST\n",
      "Error geocoding 42N 50W, None: INVALID_REQUEST\n",
      "Error geocoding 27.4705° S, 153.0260° E, None: INVALID_REQUEST\n",
      "Error geocoding 27.4705° S, 153.0260° E, None: INVALID_REQUEST\n",
      "Error geocoding 89°, None: INVALID_REQUEST\n",
      "Error geocoding 89°, None: INVALID_REQUEST\n"
     ]
    }
   ],
   "source": [
    "# Apply the function\n",
    "df[['status_previous', 'previous_location_lat', 'previous_location_lon', 'location_result_previous', 'country_result_previous', \n",
    "    'status_current', 'location_lat', 'location_lon', 'location_result_current', 'country_result_current']] = df.apply(assess_location_status, axis=1)"
   ]
  },
  {
   "cell_type": "code",
   "execution_count": 19,
   "metadata": {},
   "outputs": [],
   "source": [
    "# save full result\n",
    "df.to_csv(\"full_result.csv\", index= False)"
   ]
  },
  {
   "cell_type": "code",
   "execution_count": 20,
   "metadata": {},
   "outputs": [],
   "source": [
    "# extract important columns and save \n",
    "df_2= df[[\"player_id\",\"date\",\"previous_country\",\"previous_location\",\"previous_location_lat\", \"previous_location_lon\", \"country\",\"location\",\"location_lat\",\"location_lon\"]]\n",
    "df_2.to_csv(\"full_result_2.csv\", index= False)"
   ]
  }
 ],
 "metadata": {
  "kernelspec": {
   "display_name": "base",
   "language": "python",
   "name": "python3"
  },
  "language_info": {
   "codemirror_mode": {
    "name": "ipython",
    "version": 3
   },
   "file_extension": ".py",
   "mimetype": "text/x-python",
   "name": "python",
   "nbconvert_exporter": "python",
   "pygments_lexer": "ipython3",
   "version": "3.10.12"
  },
  "orig_nbformat": 4
 },
 "nbformat": 4,
 "nbformat_minor": 2
}
